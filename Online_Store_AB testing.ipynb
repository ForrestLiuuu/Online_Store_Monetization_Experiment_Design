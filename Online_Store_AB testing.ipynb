{
 "cells": [
  {
   "cell_type": "code",
   "execution_count": 1,
   "metadata": {},
   "outputs": [],
   "source": [
    "import warnings\n",
    "warnings.filterwarnings('ignore')\n",
    "import numpy as np\n",
    "import pandas as pd\n",
    "pd.set_option('display.max_columns', None)\n",
    "import scipy.stats as stats\n",
    "import matplotlib.pyplot as plt\n",
    "%matplotlib inline\n",
    "plt.rcParams['figure.figsize'] = (8, 5)\n",
    "import seaborn as sns"
   ]
  },
  {
   "cell_type": "code",
   "execution_count": 2,
   "metadata": {},
   "outputs": [],
   "source": [
    "my_data = pd.read_csv('Python_project_eda.csv')"
   ]
  },
  {
   "cell_type": "code",
   "execution_count": 3,
   "metadata": {},
   "outputs": [
    {
     "data": {
      "text/html": [
       "<div>\n",
       "<style scoped>\n",
       "    .dataframe tbody tr th:only-of-type {\n",
       "        vertical-align: middle;\n",
       "    }\n",
       "\n",
       "    .dataframe tbody tr th {\n",
       "        vertical-align: top;\n",
       "    }\n",
       "\n",
       "    .dataframe thead th {\n",
       "        text-align: right;\n",
       "    }\n",
       "</style>\n",
       "<table border=\"1\" class=\"dataframe\">\n",
       "  <thead>\n",
       "    <tr style=\"text-align: right;\">\n",
       "      <th></th>\n",
       "      <th>buyer_week_before</th>\n",
       "      <th>clicked_buy_before</th>\n",
       "      <th>country</th>\n",
       "      <th>existing_buyer</th>\n",
       "      <th>initial_fop_set</th>\n",
       "      <th>made_purchase_before</th>\n",
       "      <th>saw_cart_before</th>\n",
       "      <th>spend_usd_next_14_days</th>\n",
       "      <th>user_added_credit_card</th>\n",
       "      <th>user_added_dcb</th>\n",
       "      <th>user_added_fop</th>\n",
       "      <th>user_added_gift_card</th>\n",
       "      <th>user_added_paypal</th>\n",
       "      <th>user_id</th>\n",
       "      <th>visit_before</th>\n",
       "    </tr>\n",
       "  </thead>\n",
       "  <tbody>\n",
       "    <tr>\n",
       "      <th>0</th>\n",
       "      <td>0</td>\n",
       "      <td>0.0</td>\n",
       "      <td>IN</td>\n",
       "      <td>0</td>\n",
       "      <td>False</td>\n",
       "      <td>0.0</td>\n",
       "      <td>1.0</td>\n",
       "      <td>NaN</td>\n",
       "      <td>NaN</td>\n",
       "      <td>NaN</td>\n",
       "      <td>0</td>\n",
       "      <td>NaN</td>\n",
       "      <td>NaN</td>\n",
       "      <td>1.832130e+19</td>\n",
       "      <td>1</td>\n",
       "    </tr>\n",
       "    <tr>\n",
       "      <th>1</th>\n",
       "      <td>0</td>\n",
       "      <td>0.0</td>\n",
       "      <td>IN</td>\n",
       "      <td>0</td>\n",
       "      <td>False</td>\n",
       "      <td>0.0</td>\n",
       "      <td>1.0</td>\n",
       "      <td>NaN</td>\n",
       "      <td>NaN</td>\n",
       "      <td>NaN</td>\n",
       "      <td>0</td>\n",
       "      <td>NaN</td>\n",
       "      <td>NaN</td>\n",
       "      <td>1.370540e+19</td>\n",
       "      <td>1</td>\n",
       "    </tr>\n",
       "    <tr>\n",
       "      <th>2</th>\n",
       "      <td>0</td>\n",
       "      <td>NaN</td>\n",
       "      <td>IN</td>\n",
       "      <td>0</td>\n",
       "      <td>False</td>\n",
       "      <td>NaN</td>\n",
       "      <td>NaN</td>\n",
       "      <td>NaN</td>\n",
       "      <td>NaN</td>\n",
       "      <td>NaN</td>\n",
       "      <td>0</td>\n",
       "      <td>NaN</td>\n",
       "      <td>NaN</td>\n",
       "      <td>6.605720e+18</td>\n",
       "      <td>0</td>\n",
       "    </tr>\n",
       "    <tr>\n",
       "      <th>3</th>\n",
       "      <td>0</td>\n",
       "      <td>1.0</td>\n",
       "      <td>CA</td>\n",
       "      <td>1</td>\n",
       "      <td>True</td>\n",
       "      <td>1.0</td>\n",
       "      <td>1.0</td>\n",
       "      <td>7.398815</td>\n",
       "      <td>1.0</td>\n",
       "      <td>0.0</td>\n",
       "      <td>1</td>\n",
       "      <td>0.0</td>\n",
       "      <td>0.0</td>\n",
       "      <td>2.340070e+18</td>\n",
       "      <td>1</td>\n",
       "    </tr>\n",
       "    <tr>\n",
       "      <th>4</th>\n",
       "      <td>7</td>\n",
       "      <td>1.0</td>\n",
       "      <td>PL</td>\n",
       "      <td>1</td>\n",
       "      <td>True</td>\n",
       "      <td>1.0</td>\n",
       "      <td>1.0</td>\n",
       "      <td>NaN</td>\n",
       "      <td>0.0</td>\n",
       "      <td>1.0</td>\n",
       "      <td>1</td>\n",
       "      <td>0.0</td>\n",
       "      <td>0.0</td>\n",
       "      <td>1.189100e+19</td>\n",
       "      <td>1</td>\n",
       "    </tr>\n",
       "  </tbody>\n",
       "</table>\n",
       "</div>"
      ],
      "text/plain": [
       "   buyer_week_before  clicked_buy_before country  existing_buyer  \\\n",
       "0                  0                 0.0      IN               0   \n",
       "1                  0                 0.0      IN               0   \n",
       "2                  0                 NaN      IN               0   \n",
       "3                  0                 1.0      CA               1   \n",
       "4                  7                 1.0      PL               1   \n",
       "\n",
       "   initial_fop_set  made_purchase_before  saw_cart_before  \\\n",
       "0            False                   0.0              1.0   \n",
       "1            False                   0.0              1.0   \n",
       "2            False                   NaN              NaN   \n",
       "3             True                   1.0              1.0   \n",
       "4             True                   1.0              1.0   \n",
       "\n",
       "   spend_usd_next_14_days  user_added_credit_card  user_added_dcb  \\\n",
       "0                     NaN                     NaN             NaN   \n",
       "1                     NaN                     NaN             NaN   \n",
       "2                     NaN                     NaN             NaN   \n",
       "3                7.398815                     1.0             0.0   \n",
       "4                     NaN                     0.0             1.0   \n",
       "\n",
       "   user_added_fop  user_added_gift_card  user_added_paypal       user_id  \\\n",
       "0               0                   NaN                NaN  1.832130e+19   \n",
       "1               0                   NaN                NaN  1.370540e+19   \n",
       "2               0                   NaN                NaN  6.605720e+18   \n",
       "3               1                   0.0                0.0  2.340070e+18   \n",
       "4               1                   0.0                0.0  1.189100e+19   \n",
       "\n",
       "   visit_before  \n",
       "0             1  \n",
       "1             1  \n",
       "2             0  \n",
       "3             1  \n",
       "4             1  "
      ]
     },
     "execution_count": 3,
     "metadata": {},
     "output_type": "execute_result"
    }
   ],
   "source": [
    "# View data head\n",
    "my_data.head(5)"
   ]
  },
  {
   "cell_type": "code",
   "execution_count": 4,
   "metadata": {},
   "outputs": [
    {
     "data": {
      "text/plain": [
       "(566699, 15)"
      ]
     },
     "execution_count": 4,
     "metadata": {},
     "output_type": "execute_result"
    }
   ],
   "source": [
    "# shape of data\n",
    "my_data.shape"
   ]
  },
  {
   "cell_type": "markdown",
   "metadata": {},
   "source": [
    "## **Check Missing Value**"
   ]
  },
  {
   "cell_type": "code",
   "execution_count": 5,
   "metadata": {},
   "outputs": [],
   "source": [
    "# Remove Duplicates\n",
    "my_data = my_data.drop_duplicates()"
   ]
  },
  {
   "cell_type": "code",
   "execution_count": 6,
   "metadata": {},
   "outputs": [
    {
     "data": {
      "text/plain": [
       "buyer_week_before              0\n",
       "clicked_buy_before         70803\n",
       "country                    12480\n",
       "existing_buyer                 0\n",
       "initial_fop_set                0\n",
       "made_purchase_before       70803\n",
       "saw_cart_before            70803\n",
       "spend_usd_next_14_days    470959\n",
       "user_added_credit_card    389434\n",
       "user_added_dcb            389434\n",
       "user_added_fop                 0\n",
       "user_added_gift_card      389434\n",
       "user_added_paypal         389434\n",
       "user_id                        0\n",
       "visit_before                   0\n",
       "dtype: int64"
      ]
     },
     "execution_count": 6,
     "metadata": {},
     "output_type": "execute_result"
    }
   ],
   "source": [
    "# Check missing value\n",
    "my_data.shape[0] - my_data.count()"
   ]
  },
  {
   "cell_type": "code",
   "execution_count": 7,
   "metadata": {},
   "outputs": [],
   "source": [
    "# remove NA in payment methods\n",
    "df = my_data.dropna(subset = ['made_purchase_before', 'clicked_buy_before', 'country', 'saw_cart_before'])\n",
    "\n",
    "# fill na with 0\n",
    "df = df.fillna(0)"
   ]
  },
  {
   "cell_type": "code",
   "execution_count": 8,
   "metadata": {},
   "outputs": [
    {
     "data": {
      "text/plain": [
       "buyer_week_before         0\n",
       "clicked_buy_before        0\n",
       "country                   0\n",
       "existing_buyer            0\n",
       "initial_fop_set           0\n",
       "made_purchase_before      0\n",
       "saw_cart_before           0\n",
       "spend_usd_next_14_days    0\n",
       "user_added_credit_card    0\n",
       "user_added_dcb            0\n",
       "user_added_fop            0\n",
       "user_added_gift_card      0\n",
       "user_added_paypal         0\n",
       "user_id                   0\n",
       "visit_before              0\n",
       "dtype: int64"
      ]
     },
     "execution_count": 8,
     "metadata": {},
     "output_type": "execute_result"
    }
   ],
   "source": [
    "df.shape[0] - df.count()"
   ]
  },
  {
   "cell_type": "code",
   "execution_count": 9,
   "metadata": {},
   "outputs": [
    {
     "data": {
      "text/plain": [
       "477946"
      ]
     },
     "execution_count": 9,
     "metadata": {},
     "output_type": "execute_result"
    }
   ],
   "source": [
    "# The length of the data now\n",
    "len(df)"
   ]
  },
  {
   "cell_type": "markdown",
   "metadata": {},
   "source": [
    "## **Additional - How to Find Top Countries**"
   ]
  },
  {
   "cell_type": "code",
   "execution_count": 10,
   "metadata": {},
   "outputs": [
    {
     "data": {
      "text/html": [
       "<div>\n",
       "<style scoped>\n",
       "    .dataframe tbody tr th:only-of-type {\n",
       "        vertical-align: middle;\n",
       "    }\n",
       "\n",
       "    .dataframe tbody tr th {\n",
       "        vertical-align: top;\n",
       "    }\n",
       "\n",
       "    .dataframe thead th {\n",
       "        text-align: right;\n",
       "    }\n",
       "</style>\n",
       "<table border=\"1\" class=\"dataframe\">\n",
       "  <thead>\n",
       "    <tr style=\"text-align: right;\">\n",
       "      <th></th>\n",
       "      <th>buyer_week_before</th>\n",
       "      <th>clicked_buy_before</th>\n",
       "      <th>country</th>\n",
       "      <th>existing_buyer</th>\n",
       "      <th>initial_fop_set</th>\n",
       "      <th>made_purchase_before</th>\n",
       "      <th>saw_cart_before</th>\n",
       "      <th>spend_usd_next_14_days</th>\n",
       "      <th>user_added_credit_card</th>\n",
       "      <th>user_added_dcb</th>\n",
       "      <th>user_added_fop</th>\n",
       "      <th>user_added_gift_card</th>\n",
       "      <th>user_added_paypal</th>\n",
       "      <th>user_id</th>\n",
       "      <th>visit_before</th>\n",
       "    </tr>\n",
       "  </thead>\n",
       "  <tbody>\n",
       "    <tr>\n",
       "      <th>0</th>\n",
       "      <td>0</td>\n",
       "      <td>0.0</td>\n",
       "      <td>IN</td>\n",
       "      <td>0</td>\n",
       "      <td>False</td>\n",
       "      <td>0.0</td>\n",
       "      <td>1.0</td>\n",
       "      <td>0.000000</td>\n",
       "      <td>0.0</td>\n",
       "      <td>0.0</td>\n",
       "      <td>0</td>\n",
       "      <td>0.0</td>\n",
       "      <td>0.0</td>\n",
       "      <td>1.832130e+19</td>\n",
       "      <td>1</td>\n",
       "    </tr>\n",
       "    <tr>\n",
       "      <th>1</th>\n",
       "      <td>0</td>\n",
       "      <td>0.0</td>\n",
       "      <td>IN</td>\n",
       "      <td>0</td>\n",
       "      <td>False</td>\n",
       "      <td>0.0</td>\n",
       "      <td>1.0</td>\n",
       "      <td>0.000000</td>\n",
       "      <td>0.0</td>\n",
       "      <td>0.0</td>\n",
       "      <td>0</td>\n",
       "      <td>0.0</td>\n",
       "      <td>0.0</td>\n",
       "      <td>1.370540e+19</td>\n",
       "      <td>1</td>\n",
       "    </tr>\n",
       "    <tr>\n",
       "      <th>3</th>\n",
       "      <td>0</td>\n",
       "      <td>1.0</td>\n",
       "      <td>CA</td>\n",
       "      <td>1</td>\n",
       "      <td>True</td>\n",
       "      <td>1.0</td>\n",
       "      <td>1.0</td>\n",
       "      <td>7.398815</td>\n",
       "      <td>1.0</td>\n",
       "      <td>0.0</td>\n",
       "      <td>1</td>\n",
       "      <td>0.0</td>\n",
       "      <td>0.0</td>\n",
       "      <td>2.340070e+18</td>\n",
       "      <td>1</td>\n",
       "    </tr>\n",
       "    <tr>\n",
       "      <th>4</th>\n",
       "      <td>7</td>\n",
       "      <td>1.0</td>\n",
       "      <td>PL</td>\n",
       "      <td>1</td>\n",
       "      <td>True</td>\n",
       "      <td>1.0</td>\n",
       "      <td>1.0</td>\n",
       "      <td>0.000000</td>\n",
       "      <td>0.0</td>\n",
       "      <td>1.0</td>\n",
       "      <td>1</td>\n",
       "      <td>0.0</td>\n",
       "      <td>0.0</td>\n",
       "      <td>1.189100e+19</td>\n",
       "      <td>1</td>\n",
       "    </tr>\n",
       "    <tr>\n",
       "      <th>5</th>\n",
       "      <td>0</td>\n",
       "      <td>0.0</td>\n",
       "      <td>ID</td>\n",
       "      <td>0</td>\n",
       "      <td>False</td>\n",
       "      <td>0.0</td>\n",
       "      <td>1.0</td>\n",
       "      <td>0.000000</td>\n",
       "      <td>0.0</td>\n",
       "      <td>0.0</td>\n",
       "      <td>0</td>\n",
       "      <td>0.0</td>\n",
       "      <td>0.0</td>\n",
       "      <td>1.696040e+19</td>\n",
       "      <td>1</td>\n",
       "    </tr>\n",
       "  </tbody>\n",
       "</table>\n",
       "</div>"
      ],
      "text/plain": [
       "   buyer_week_before  clicked_buy_before country  existing_buyer  \\\n",
       "0                  0                 0.0      IN               0   \n",
       "1                  0                 0.0      IN               0   \n",
       "3                  0                 1.0      CA               1   \n",
       "4                  7                 1.0      PL               1   \n",
       "5                  0                 0.0      ID               0   \n",
       "\n",
       "   initial_fop_set  made_purchase_before  saw_cart_before  \\\n",
       "0            False                   0.0              1.0   \n",
       "1            False                   0.0              1.0   \n",
       "3             True                   1.0              1.0   \n",
       "4             True                   1.0              1.0   \n",
       "5            False                   0.0              1.0   \n",
       "\n",
       "   spend_usd_next_14_days  user_added_credit_card  user_added_dcb  \\\n",
       "0                0.000000                     0.0             0.0   \n",
       "1                0.000000                     0.0             0.0   \n",
       "3                7.398815                     1.0             0.0   \n",
       "4                0.000000                     0.0             1.0   \n",
       "5                0.000000                     0.0             0.0   \n",
       "\n",
       "   user_added_fop  user_added_gift_card  user_added_paypal       user_id  \\\n",
       "0               0                   0.0                0.0  1.832130e+19   \n",
       "1               0                   0.0                0.0  1.370540e+19   \n",
       "3               1                   0.0                0.0  2.340070e+18   \n",
       "4               1                   0.0                0.0  1.189100e+19   \n",
       "5               0                   0.0                0.0  1.696040e+19   \n",
       "\n",
       "   visit_before  \n",
       "0             1  \n",
       "1             1  \n",
       "3             1  \n",
       "4             1  \n",
       "5             1  "
      ]
     },
     "execution_count": 10,
     "metadata": {},
     "output_type": "execute_result"
    }
   ],
   "source": [
    "df.head()"
   ]
  },
  {
   "cell_type": "code",
   "execution_count": 11,
   "metadata": {},
   "outputs": [
    {
     "data": {
      "text/plain": [
       "country\n",
       "AE     1819\n",
       "AF       12\n",
       "AG       16\n",
       "AI        1\n",
       "AL      310\n",
       "AM      325\n",
       "AO       59\n",
       "AR     9037\n",
       "AS        5\n",
       "AT     1206\n",
       "AU     3098\n",
       "AW       19\n",
       "AX        1\n",
       "AZ      913\n",
       "BA      443\n",
       "BB        3\n",
       "BD     3650\n",
       "BE      894\n",
       "BF       27\n",
       "BG      949\n",
       "BH      410\n",
       "BJ       29\n",
       "BN       20\n",
       "BO     1135\n",
       "BQ        7\n",
       "BR    30309\n",
       "BS       66\n",
       "BT        2\n",
       "BW       15\n",
       "BY     1348\n",
       "      ...  \n",
       "SO        2\n",
       "SR        1\n",
       "SV      772\n",
       "SY      563\n",
       "TG       21\n",
       "TH     9531\n",
       "TJ      170\n",
       "TL        3\n",
       "TM      132\n",
       "TN     1311\n",
       "TR    15218\n",
       "TT      158\n",
       "TW     4926\n",
       "TZ      208\n",
       "UA     4661\n",
       "UG       46\n",
       "US    58989\n",
       "UY      673\n",
       "UZ      353\n",
       "VE     1042\n",
       "VG        1\n",
       "VI        6\n",
       "VN    11872\n",
       "VU        1\n",
       "WS        1\n",
       "XK       74\n",
       "YE      294\n",
       "ZA     1750\n",
       "ZM       39\n",
       "ZW       34\n",
       "Length: 191, dtype: int64"
      ]
     },
     "execution_count": 11,
     "metadata": {},
     "output_type": "execute_result"
    }
   ],
   "source": [
    "df.groupby(['country']).size()"
   ]
  },
  {
   "cell_type": "code",
   "execution_count": 12,
   "metadata": {},
   "outputs": [],
   "source": [
    "country_rank = df.groupby(['country']).size().reset_index(name='counts')"
   ]
  },
  {
   "cell_type": "code",
   "execution_count": 13,
   "metadata": {},
   "outputs": [
    {
     "data": {
      "text/html": [
       "<div>\n",
       "<style scoped>\n",
       "    .dataframe tbody tr th:only-of-type {\n",
       "        vertical-align: middle;\n",
       "    }\n",
       "\n",
       "    .dataframe tbody tr th {\n",
       "        vertical-align: top;\n",
       "    }\n",
       "\n",
       "    .dataframe thead th {\n",
       "        text-align: right;\n",
       "    }\n",
       "</style>\n",
       "<table border=\"1\" class=\"dataframe\">\n",
       "  <thead>\n",
       "    <tr style=\"text-align: right;\">\n",
       "      <th></th>\n",
       "      <th>country</th>\n",
       "      <th>counts</th>\n",
       "    </tr>\n",
       "  </thead>\n",
       "  <tbody>\n",
       "    <tr>\n",
       "      <th>0</th>\n",
       "      <td>AE</td>\n",
       "      <td>1819</td>\n",
       "    </tr>\n",
       "    <tr>\n",
       "      <th>1</th>\n",
       "      <td>AF</td>\n",
       "      <td>12</td>\n",
       "    </tr>\n",
       "    <tr>\n",
       "      <th>2</th>\n",
       "      <td>AG</td>\n",
       "      <td>16</td>\n",
       "    </tr>\n",
       "    <tr>\n",
       "      <th>3</th>\n",
       "      <td>AI</td>\n",
       "      <td>1</td>\n",
       "    </tr>\n",
       "    <tr>\n",
       "      <th>4</th>\n",
       "      <td>AL</td>\n",
       "      <td>310</td>\n",
       "    </tr>\n",
       "    <tr>\n",
       "      <th>5</th>\n",
       "      <td>AM</td>\n",
       "      <td>325</td>\n",
       "    </tr>\n",
       "    <tr>\n",
       "      <th>6</th>\n",
       "      <td>AO</td>\n",
       "      <td>59</td>\n",
       "    </tr>\n",
       "    <tr>\n",
       "      <th>7</th>\n",
       "      <td>AR</td>\n",
       "      <td>9037</td>\n",
       "    </tr>\n",
       "    <tr>\n",
       "      <th>8</th>\n",
       "      <td>AS</td>\n",
       "      <td>5</td>\n",
       "    </tr>\n",
       "    <tr>\n",
       "      <th>9</th>\n",
       "      <td>AT</td>\n",
       "      <td>1206</td>\n",
       "    </tr>\n",
       "    <tr>\n",
       "      <th>10</th>\n",
       "      <td>AU</td>\n",
       "      <td>3098</td>\n",
       "    </tr>\n",
       "    <tr>\n",
       "      <th>11</th>\n",
       "      <td>AW</td>\n",
       "      <td>19</td>\n",
       "    </tr>\n",
       "    <tr>\n",
       "      <th>12</th>\n",
       "      <td>AX</td>\n",
       "      <td>1</td>\n",
       "    </tr>\n",
       "    <tr>\n",
       "      <th>13</th>\n",
       "      <td>AZ</td>\n",
       "      <td>913</td>\n",
       "    </tr>\n",
       "    <tr>\n",
       "      <th>14</th>\n",
       "      <td>BA</td>\n",
       "      <td>443</td>\n",
       "    </tr>\n",
       "    <tr>\n",
       "      <th>15</th>\n",
       "      <td>BB</td>\n",
       "      <td>3</td>\n",
       "    </tr>\n",
       "    <tr>\n",
       "      <th>16</th>\n",
       "      <td>BD</td>\n",
       "      <td>3650</td>\n",
       "    </tr>\n",
       "    <tr>\n",
       "      <th>17</th>\n",
       "      <td>BE</td>\n",
       "      <td>894</td>\n",
       "    </tr>\n",
       "    <tr>\n",
       "      <th>18</th>\n",
       "      <td>BF</td>\n",
       "      <td>27</td>\n",
       "    </tr>\n",
       "    <tr>\n",
       "      <th>19</th>\n",
       "      <td>BG</td>\n",
       "      <td>949</td>\n",
       "    </tr>\n",
       "    <tr>\n",
       "      <th>20</th>\n",
       "      <td>BH</td>\n",
       "      <td>410</td>\n",
       "    </tr>\n",
       "    <tr>\n",
       "      <th>21</th>\n",
       "      <td>BJ</td>\n",
       "      <td>29</td>\n",
       "    </tr>\n",
       "    <tr>\n",
       "      <th>22</th>\n",
       "      <td>BN</td>\n",
       "      <td>20</td>\n",
       "    </tr>\n",
       "    <tr>\n",
       "      <th>23</th>\n",
       "      <td>BO</td>\n",
       "      <td>1135</td>\n",
       "    </tr>\n",
       "    <tr>\n",
       "      <th>24</th>\n",
       "      <td>BQ</td>\n",
       "      <td>7</td>\n",
       "    </tr>\n",
       "    <tr>\n",
       "      <th>25</th>\n",
       "      <td>BR</td>\n",
       "      <td>30309</td>\n",
       "    </tr>\n",
       "    <tr>\n",
       "      <th>26</th>\n",
       "      <td>BS</td>\n",
       "      <td>66</td>\n",
       "    </tr>\n",
       "    <tr>\n",
       "      <th>27</th>\n",
       "      <td>BT</td>\n",
       "      <td>2</td>\n",
       "    </tr>\n",
       "    <tr>\n",
       "      <th>28</th>\n",
       "      <td>BW</td>\n",
       "      <td>15</td>\n",
       "    </tr>\n",
       "    <tr>\n",
       "      <th>29</th>\n",
       "      <td>BY</td>\n",
       "      <td>1348</td>\n",
       "    </tr>\n",
       "    <tr>\n",
       "      <th>...</th>\n",
       "      <td>...</td>\n",
       "      <td>...</td>\n",
       "    </tr>\n",
       "    <tr>\n",
       "      <th>161</th>\n",
       "      <td>SO</td>\n",
       "      <td>2</td>\n",
       "    </tr>\n",
       "    <tr>\n",
       "      <th>162</th>\n",
       "      <td>SR</td>\n",
       "      <td>1</td>\n",
       "    </tr>\n",
       "    <tr>\n",
       "      <th>163</th>\n",
       "      <td>SV</td>\n",
       "      <td>772</td>\n",
       "    </tr>\n",
       "    <tr>\n",
       "      <th>164</th>\n",
       "      <td>SY</td>\n",
       "      <td>563</td>\n",
       "    </tr>\n",
       "    <tr>\n",
       "      <th>165</th>\n",
       "      <td>TG</td>\n",
       "      <td>21</td>\n",
       "    </tr>\n",
       "    <tr>\n",
       "      <th>166</th>\n",
       "      <td>TH</td>\n",
       "      <td>9531</td>\n",
       "    </tr>\n",
       "    <tr>\n",
       "      <th>167</th>\n",
       "      <td>TJ</td>\n",
       "      <td>170</td>\n",
       "    </tr>\n",
       "    <tr>\n",
       "      <th>168</th>\n",
       "      <td>TL</td>\n",
       "      <td>3</td>\n",
       "    </tr>\n",
       "    <tr>\n",
       "      <th>169</th>\n",
       "      <td>TM</td>\n",
       "      <td>132</td>\n",
       "    </tr>\n",
       "    <tr>\n",
       "      <th>170</th>\n",
       "      <td>TN</td>\n",
       "      <td>1311</td>\n",
       "    </tr>\n",
       "    <tr>\n",
       "      <th>171</th>\n",
       "      <td>TR</td>\n",
       "      <td>15218</td>\n",
       "    </tr>\n",
       "    <tr>\n",
       "      <th>172</th>\n",
       "      <td>TT</td>\n",
       "      <td>158</td>\n",
       "    </tr>\n",
       "    <tr>\n",
       "      <th>173</th>\n",
       "      <td>TW</td>\n",
       "      <td>4926</td>\n",
       "    </tr>\n",
       "    <tr>\n",
       "      <th>174</th>\n",
       "      <td>TZ</td>\n",
       "      <td>208</td>\n",
       "    </tr>\n",
       "    <tr>\n",
       "      <th>175</th>\n",
       "      <td>UA</td>\n",
       "      <td>4661</td>\n",
       "    </tr>\n",
       "    <tr>\n",
       "      <th>176</th>\n",
       "      <td>UG</td>\n",
       "      <td>46</td>\n",
       "    </tr>\n",
       "    <tr>\n",
       "      <th>177</th>\n",
       "      <td>US</td>\n",
       "      <td>58989</td>\n",
       "    </tr>\n",
       "    <tr>\n",
       "      <th>178</th>\n",
       "      <td>UY</td>\n",
       "      <td>673</td>\n",
       "    </tr>\n",
       "    <tr>\n",
       "      <th>179</th>\n",
       "      <td>UZ</td>\n",
       "      <td>353</td>\n",
       "    </tr>\n",
       "    <tr>\n",
       "      <th>180</th>\n",
       "      <td>VE</td>\n",
       "      <td>1042</td>\n",
       "    </tr>\n",
       "    <tr>\n",
       "      <th>181</th>\n",
       "      <td>VG</td>\n",
       "      <td>1</td>\n",
       "    </tr>\n",
       "    <tr>\n",
       "      <th>182</th>\n",
       "      <td>VI</td>\n",
       "      <td>6</td>\n",
       "    </tr>\n",
       "    <tr>\n",
       "      <th>183</th>\n",
       "      <td>VN</td>\n",
       "      <td>11872</td>\n",
       "    </tr>\n",
       "    <tr>\n",
       "      <th>184</th>\n",
       "      <td>VU</td>\n",
       "      <td>1</td>\n",
       "    </tr>\n",
       "    <tr>\n",
       "      <th>185</th>\n",
       "      <td>WS</td>\n",
       "      <td>1</td>\n",
       "    </tr>\n",
       "    <tr>\n",
       "      <th>186</th>\n",
       "      <td>XK</td>\n",
       "      <td>74</td>\n",
       "    </tr>\n",
       "    <tr>\n",
       "      <th>187</th>\n",
       "      <td>YE</td>\n",
       "      <td>294</td>\n",
       "    </tr>\n",
       "    <tr>\n",
       "      <th>188</th>\n",
       "      <td>ZA</td>\n",
       "      <td>1750</td>\n",
       "    </tr>\n",
       "    <tr>\n",
       "      <th>189</th>\n",
       "      <td>ZM</td>\n",
       "      <td>39</td>\n",
       "    </tr>\n",
       "    <tr>\n",
       "      <th>190</th>\n",
       "      <td>ZW</td>\n",
       "      <td>34</td>\n",
       "    </tr>\n",
       "  </tbody>\n",
       "</table>\n",
       "<p>191 rows × 2 columns</p>\n",
       "</div>"
      ],
      "text/plain": [
       "    country  counts\n",
       "0        AE    1819\n",
       "1        AF      12\n",
       "2        AG      16\n",
       "3        AI       1\n",
       "4        AL     310\n",
       "5        AM     325\n",
       "6        AO      59\n",
       "7        AR    9037\n",
       "8        AS       5\n",
       "9        AT    1206\n",
       "10       AU    3098\n",
       "11       AW      19\n",
       "12       AX       1\n",
       "13       AZ     913\n",
       "14       BA     443\n",
       "15       BB       3\n",
       "16       BD    3650\n",
       "17       BE     894\n",
       "18       BF      27\n",
       "19       BG     949\n",
       "20       BH     410\n",
       "21       BJ      29\n",
       "22       BN      20\n",
       "23       BO    1135\n",
       "24       BQ       7\n",
       "25       BR   30309\n",
       "26       BS      66\n",
       "27       BT       2\n",
       "28       BW      15\n",
       "29       BY    1348\n",
       "..      ...     ...\n",
       "161      SO       2\n",
       "162      SR       1\n",
       "163      SV     772\n",
       "164      SY     563\n",
       "165      TG      21\n",
       "166      TH    9531\n",
       "167      TJ     170\n",
       "168      TL       3\n",
       "169      TM     132\n",
       "170      TN    1311\n",
       "171      TR   15218\n",
       "172      TT     158\n",
       "173      TW    4926\n",
       "174      TZ     208\n",
       "175      UA    4661\n",
       "176      UG      46\n",
       "177      US   58989\n",
       "178      UY     673\n",
       "179      UZ     353\n",
       "180      VE    1042\n",
       "181      VG       1\n",
       "182      VI       6\n",
       "183      VN   11872\n",
       "184      VU       1\n",
       "185      WS       1\n",
       "186      XK      74\n",
       "187      YE     294\n",
       "188      ZA    1750\n",
       "189      ZM      39\n",
       "190      ZW      34\n",
       "\n",
       "[191 rows x 2 columns]"
      ]
     },
     "execution_count": 13,
     "metadata": {},
     "output_type": "execute_result"
    }
   ],
   "source": [
    "country_rank"
   ]
  },
  {
   "cell_type": "code",
   "execution_count": 14,
   "metadata": {},
   "outputs": [
    {
     "data": {
      "text/html": [
       "<div>\n",
       "<style scoped>\n",
       "    .dataframe tbody tr th:only-of-type {\n",
       "        vertical-align: middle;\n",
       "    }\n",
       "\n",
       "    .dataframe tbody tr th {\n",
       "        vertical-align: top;\n",
       "    }\n",
       "\n",
       "    .dataframe thead th {\n",
       "        text-align: right;\n",
       "    }\n",
       "</style>\n",
       "<table border=\"1\" class=\"dataframe\">\n",
       "  <thead>\n",
       "    <tr style=\"text-align: right;\">\n",
       "      <th></th>\n",
       "      <th>country</th>\n",
       "      <th>counts</th>\n",
       "    </tr>\n",
       "  </thead>\n",
       "  <tbody>\n",
       "    <tr>\n",
       "      <th>177</th>\n",
       "      <td>US</td>\n",
       "      <td>58989</td>\n",
       "    </tr>\n",
       "    <tr>\n",
       "      <th>80</th>\n",
       "      <td>IN</td>\n",
       "      <td>58113</td>\n",
       "    </tr>\n",
       "    <tr>\n",
       "      <th>76</th>\n",
       "      <td>ID</td>\n",
       "      <td>33536</td>\n",
       "    </tr>\n",
       "    <tr>\n",
       "      <th>25</th>\n",
       "      <td>BR</td>\n",
       "      <td>30309</td>\n",
       "    </tr>\n",
       "    <tr>\n",
       "      <th>151</th>\n",
       "      <td>RU</td>\n",
       "      <td>20339</td>\n",
       "    </tr>\n",
       "    <tr>\n",
       "      <th>88</th>\n",
       "      <td>JP</td>\n",
       "      <td>17569</td>\n",
       "    </tr>\n",
       "    <tr>\n",
       "      <th>171</th>\n",
       "      <td>TR</td>\n",
       "      <td>15218</td>\n",
       "    </tr>\n",
       "    <tr>\n",
       "      <th>124</th>\n",
       "      <td>MX</td>\n",
       "      <td>12930</td>\n",
       "    </tr>\n",
       "    <tr>\n",
       "      <th>93</th>\n",
       "      <td>KR</td>\n",
       "      <td>12608</td>\n",
       "    </tr>\n",
       "    <tr>\n",
       "      <th>183</th>\n",
       "      <td>VN</td>\n",
       "      <td>11872</td>\n",
       "    </tr>\n",
       "  </tbody>\n",
       "</table>\n",
       "</div>"
      ],
      "text/plain": [
       "    country  counts\n",
       "177      US   58989\n",
       "80       IN   58113\n",
       "76       ID   33536\n",
       "25       BR   30309\n",
       "151      RU   20339\n",
       "88       JP   17569\n",
       "171      TR   15218\n",
       "124      MX   12930\n",
       "93       KR   12608\n",
       "183      VN   11872"
      ]
     },
     "execution_count": 14,
     "metadata": {},
     "output_type": "execute_result"
    }
   ],
   "source": [
    "country_rank = country_rank.sort_values('counts', ascending = False)[:10]\n",
    "country_rank"
   ]
  },
  {
   "cell_type": "code",
   "execution_count": 15,
   "metadata": {},
   "outputs": [
    {
     "data": {
      "image/png": "[encoded data removed]",
      "text/plain": [
       "<Figure size 432x288 with 1 Axes>"
      ]
     },
     "metadata": {
      "needs_background": "light"
     },
     "output_type": "display_data"
    }
   ],
   "source": [
    " # Create horizontal bars\n",
    "plt.barh(country_rank['country'], country_rank['counts'])\n",
    "\n",
    "# Create names on the y-axis\n",
    "y_pos = np.arange(len(country_rank['country']))\n",
    "plt.yticks(y_pos, country_rank['country'])\n",
    "plt.title('Top 10 Countries based on Number of Records')\n",
    "plt.xlabel('# of records') \n",
    "plt.ylabel('Country')\n",
    "plt.gca().invert_yaxis()\n",
    "plt.show()"
   ]
  },
  {
   "cell_type": "markdown",
   "metadata": {},
   "source": [
    "## **Exploration - Spend USD in next 14 Days**"
   ]
  },
  {
   "cell_type": "code",
   "execution_count": 16,
   "metadata": {},
   "outputs": [],
   "source": [
    "spend_usd_next_14_days = df.spend_usd_next_14_days"
   ]
  },
  {
   "cell_type": "code",
   "execution_count": 17,
   "metadata": {},
   "outputs": [
    {
     "data": {
      "text/plain": [
       "count    477946.000000\n",
       "mean         12.228711\n",
       "std          94.953851\n",
       "min           0.000000\n",
       "25%           0.000000\n",
       "50%           0.000000\n",
       "75%           0.000000\n",
       "max       22519.570000\n",
       "Name: spend_usd_next_14_days, dtype: float64"
      ]
     },
     "execution_count": 17,
     "metadata": {},
     "output_type": "execute_result"
    }
   ],
   "source": [
    "spend_usd_next_14_days.describe()"
   ]
  },
  {
   "cell_type": "code",
   "execution_count": 18,
   "metadata": {},
   "outputs": [
    {
     "data": {
      "image/png": "[encoded data removed]",
      "text/plain": [
       "<Figure size 432x288 with 1 Axes>"
      ]
     },
     "metadata": {
      "needs_background": "light"
     },
     "output_type": "display_data"
    }
   ],
   "source": [
    "plt.hist(spend_usd_next_14_days, bins = 50)\n",
    "plt.xlabel(\"USD Next 14 Days\")\n",
    "plt.ylabel(\"Frequency\")\n",
    "plt.title(\"raw data\")\n",
    "plt.show()"
   ]
  },
  {
   "cell_type": "code",
   "execution_count": 19,
   "metadata": {},
   "outputs": [
    {
     "data": {
      "image/png": "[encoded data removed]",
      "text/plain": [
       "<Figure size 432x288 with 1 Axes>"
      ]
     },
     "metadata": {
      "needs_background": "light"
     },
     "output_type": "display_data"
    }
   ],
   "source": [
    "# Remove value of 0\n",
    "plt.hist(spend_usd_next_14_days[spend_usd_next_14_days != 0], bins = 50)\n",
    "plt.xlabel(\"USD Next 14 Days\")\n",
    "plt.ylabel(\"Frequency\")\n",
    "plt.title(\"After Removing Value of 0\")\n",
    "plt.show()"
   ]
  },
  {
   "cell_type": "code",
   "execution_count": 20,
   "metadata": {},
   "outputs": [
    {
     "data": {
      "image/png": "[encoded data removed]",
      "text/plain": [
       "<Figure size 432x288 with 1 Axes>"
      ]
     },
     "metadata": {
      "needs_background": "light"
     },
     "output_type": "display_data"
    }
   ],
   "source": [
    "# Remove value of 0\n",
    "plt.hist(spend_usd_next_14_days[(0 < spend_usd_next_14_days) & (spend_usd_next_14_days < 10000)], bins = 50)\n",
    "plt.xlabel(\"USD Next 14 Days\")\n",
    "plt.ylabel(\"Frequency\")\n",
    "plt.title(\"After Removing Value of 0\")\n",
    "plt.show()"
   ]
  },
  {
   "cell_type": "code",
   "execution_count": 21,
   "metadata": {},
   "outputs": [
    {
     "name": "stdout",
     "output_type": "stream",
     "text": [
      "# users who spend larger than 100 USD 0.027942487226590453\n",
      "# users who spend larger than 500 USD 0.003799592422574935\n"
     ]
    }
   ],
   "source": [
    "n = len(spend_usd_next_14_days) + 0.0\n",
    "print('# users who spend larger than 100 USD', len(spend_usd_next_14_days[spend_usd_next_14_days >= 100]) / n)\n",
    "print('# users who spend larger than 500 USD', len(spend_usd_next_14_days[spend_usd_next_14_days >= 500]) / n)"
   ]
  },
  {
   "cell_type": "code",
   "execution_count": 22,
   "metadata": {},
   "outputs": [
    {
     "data": {
      "image/png": "[encoded data removed]",
      "text/plain": [
       "<Figure size 432x288 with 1 Axes>"
      ]
     },
     "metadata": {
      "needs_background": "light"
     },
     "output_type": "display_data"
    }
   ],
   "source": [
    "plt.hist(spend_usd_next_14_days[(spend_usd_next_14_days <= 100) & (spend_usd_next_14_days != 0)], bins = 300)\n",
    "plt.xlabel(\"USD Next 14 Days\")\n",
    "plt.ylabel(\"Frequency\")\n",
    "plt.title(\"After Removing Value of 0\")\n",
    "plt.show()"
   ]
  },
  {
   "cell_type": "code",
   "execution_count": 23,
   "metadata": {},
   "outputs": [
    {
     "name": "stdout",
     "output_type": "stream",
     "text": [
      "If purchased before, the spend rate is:  0.7310455143176777\n"
     ]
    }
   ],
   "source": [
    "# If purchased before...\n",
    "purchased = df[df['made_purchase_before'] == 1]\n",
    "purchased_spend_rate = len(purchased[purchased['spend_usd_next_14_days'] != 0]) / (len(purchased) + 0.0)\n",
    "\n",
    "# print reuslts\n",
    "print('If purchased before, the spend rate is: ', purchased_spend_rate)"
   ]
  },
  {
   "cell_type": "markdown",
   "metadata": {},
   "source": [
    "## **Purchase Funnel**"
   ]
  },
  {
   "cell_type": "code",
   "execution_count": 24,
   "metadata": {},
   "outputs": [
    {
     "name": "stdout",
     "output_type": "stream",
     "text": [
      "Number of users and conversion rate for each stage:\n",
      "      action       num  cr_stage\n",
      "0    visited  477946.0  0.853492\n",
      "1        saw  445594.0  0.795719\n",
      "2    clicked  124213.0  0.221813\n",
      "3  purchased  101902.0  0.181971\n"
     ]
    }
   ],
   "source": [
    "# for each stage\n",
    "n_total = len(my_data)\n",
    "n_visited = len(df)\n",
    "n_saw = df['saw_cart_before'].sum()\n",
    "n_clicked = df['clicked_buy_before'].sum()\n",
    "n_purchased = df['made_purchase_before'].sum()\n",
    "\n",
    "# create dataframe \n",
    "funnel_df = pd.DataFrame(columns=['action', 'num', 'cr_stage'])\n",
    "funnel_df['action'] = ['visited', 'saw', 'clicked', 'purchased']\n",
    "funnel_df['num'] = [n_visited, n_saw, n_clicked, n_purchased]\n",
    "# cr_stage = each action # / total #\n",
    "funnel_df['cr_stage'] = np.array([n_visited, n_saw, n_clicked, n_purchased]) / n_total\n",
    "\n",
    "# print table\n",
    "print('Number of users and conversion rate for each stage:')\n",
    "print(funnel_df)"
   ]
  },
  {
   "cell_type": "code",
   "execution_count": 25,
   "metadata": {},
   "outputs": [
    {
     "data": {
      "image/png": "[encoded data removed]",
      "text/plain": [
       "<Figure size 432x288 with 2 Axes>"
      ]
     },
     "metadata": {
      "needs_background": "light"
     },
     "output_type": "display_data"
    }
   ],
   "source": [
    "fig, ax1 = plt.subplots()\n",
    "ax2 = ax1.twinx()\n",
    "funnel_df.plot.bar('action','num', ax = ax1, legend=False)\n",
    "funnel_df.plot('action','cr_stage', ax = ax2, legend=False)\n",
    "ax1.set_ylabel('Number of users')\n",
    "ax2.set_ylabel('Conversion Rate')\n",
    "ax1.set_title('Actual Purchase Funnel for each stage')\n",
    "plt.show()"
   ]
  },
  {
   "cell_type": "code",
   "execution_count": 26,
   "metadata": {},
   "outputs": [
    {
     "name": "stdout",
     "output_type": "stream",
     "text": [
      "converstion rate stage-to-stage\n",
      "        stage_stage  cr_from_to\n",
      "0     begin_visited    0.853492\n",
      "1       visited_saw    0.932310\n",
      "2       saw_clicked    0.278758\n",
      "3  clicked_purchase    0.820381\n"
     ]
    }
   ],
   "source": [
    "funnel_df['stage_stage'] = ['begin_visited', 'visited_saw', 'saw_clicked', 'clicked_purchase']\n",
    "funnel_df['cr_from_to'] = [n_visited/(n_total + 0.0), n_saw/n_visited, n_clicked/n_saw, n_purchased/n_clicked]\n",
    "print('converstion rate stage-to-stage')\n",
    "print(funnel_df[['stage_stage', 'cr_from_to']])"
   ]
  },
  {
   "cell_type": "code",
   "execution_count": 27,
   "metadata": {},
   "outputs": [
    {
     "data": {
      "image/png": "[encoded data removed]",
      "text/plain": [
       "<Figure size 432x288 with 1 Axes>"
      ]
     },
     "metadata": {
      "needs_background": "light"
     },
     "output_type": "display_data"
    }
   ],
   "source": [
    "funnel_df.plot.bar('stage_stage', 'cr_from_to', legend = False)\n",
    "plt.ylabel('conversion Rate')\n",
    "plt.title('Converstion rate stage-to-stage')\n",
    "plt.show()"
   ]
  },
  {
   "cell_type": "code",
   "execution_count": 28,
   "metadata": {},
   "outputs": [
    {
     "data": {
      "image/png": "[encoded data removed]",
      "text/plain": [
       "<Figure size 864x576 with 4 Axes>"
      ]
     },
     "metadata": {
      "needs_background": "light"
     },
     "output_type": "display_data"
    }
   ],
   "source": [
    "# find the distribution of payment method\n",
    "target_features = ['user_added_credit_card', 'user_added_dcb', 'user_added_gift_card', 'user_added_paypal']\n",
    "\n",
    "# categorical histograms\n",
    "fig = plt.figure(figsize=(12, 8))\n",
    "for i, column in enumerate(target_features):\n",
    "  fig.add_subplot(2,2, i+1)\n",
    "  sns.countplot(df[column]) # for discrete numbers\n",
    "  # for continous number: sns.distplot(df[column])"
   ]
  },
  {
   "cell_type": "code",
   "execution_count": 29,
   "metadata": {},
   "outputs": [
    {
     "data": {
      "image/png": "[encoded data removed]",
      "text/plain": [
       "<Figure size 1440x1440 with 16 Axes>"
      ]
     },
     "metadata": {
      "needs_background": "light"
     },
     "output_type": "display_data"
    }
   ],
   "source": [
    "# Analyst through different country\n",
    "country = ['CH', 'JP', 'IN', 'US']\n",
    "count = 1\n",
    "fig = plt.figure(figsize = (20, 20))\n",
    "for i, fop in enumerate(target_features):\n",
    "  for j, c in enumerate(country):\n",
    "    fig.add_subplot(4,4, count)\n",
    "    sns.countplot(df[df['country'] == c][fop])\n",
    "    plt.title(fop + 'in' + c)\n",
    "    count += 1"
   ]
  },
  {
   "cell_type": "code",
   "execution_count": 30,
   "metadata": {},
   "outputs": [],
   "source": [
    "# Add multiple payment method vs. Add single payment method\n",
    "def cr_fop(stage_interval, obj, df):\n",
    "    tmp = df[df[obj] == 1][stage_interval].sum()\n",
    "    return tmp[1] / tmp[0]\n",
    "\n",
    "stage_interval = ['clicked_buy_before', 'made_purchase_before']\n",
    "\n",
    "# Calculate multiple fop conversion rate\n",
    "multiple_fop = []\n",
    "for obj in target_features:\n",
    "  cr = cr_fop(stage_interval, obj, df)\n",
    "  multiple_fop.append(cr)\n",
    "\n",
    "# Calculate single fop conversion rate\n",
    "df['user_added_sum'] = df['user_added_credit_card'] + df['user_added_dcb'] + df['user_added_gift_card'] + df['user_added_paypal']\n",
    "single_fop_df = df[df['user_added_sum'] == 1]\n",
    "single_fop = []\n",
    "for obj in target_features:\n",
    "  cr = cr_fop(stage_interval, obj, single_fop_df)\n",
    "  single_fop.append(cr)"
   ]
  },
  {
   "cell_type": "code",
   "execution_count": 31,
   "metadata": {},
   "outputs": [
    {
     "name": "stdout",
     "output_type": "stream",
     "text": [
      "FOP conversion rate:\n",
      "                      fop  multiple_fop  single_fop\n",
      "0  user_added_credit_card      0.863659    0.809614\n",
      "1          user_added_dcb      0.814669    0.711622\n",
      "2    user_added_gift_card      0.960136    0.953946\n",
      "3       user_added_paypal      0.883465    0.784256\n"
     ]
    },
    {
     "data": {
      "image/png": "[encoded data removed]",
      "text/plain": [
       "<Figure size 864x576 with 1 Axes>"
      ]
     },
     "metadata": {
      "needs_background": "light"
     },
     "output_type": "display_data"
    }
   ],
   "source": [
    "# draw bar plot\n",
    "res_fop_df = pd.DataFrame(columns=['fop', 'multiple_fop', 'single_fop'])\n",
    "res_fop_df['fop'] = target_features\n",
    "res_fop_df['multiple_fop'] = multiple_fop\n",
    "res_fop_df['single_fop'] = single_fop\n",
    "print ('FOP conversion rate:')\n",
    "print (res_fop_df)\n",
    "\n",
    "res_fop_df.plot.bar(x = 'fop', y = ['multiple_fop', 'single_fop'], figsize = (12, 8))\n",
    "plt.ylim(0.6, 1.0)\n",
    "plt.ylabel('conversion rate')\n",
    "plt.show()"
   ]
  },
  {
   "cell_type": "markdown",
   "metadata": {},
   "source": [
    "## A/B Test"
   ]
  },
  {
   "cell_type": "code",
   "execution_count": 32,
   "metadata": {},
   "outputs": [],
   "source": [
    "my_data = pd.read_csv('Python_project_experiment.csv')"
   ]
  },
  {
   "cell_type": "code",
   "execution_count": 33,
   "metadata": {},
   "outputs": [
    {
     "data": {
      "text/html": [
       "<div>\n",
       "<style scoped>\n",
       "    .dataframe tbody tr th:only-of-type {\n",
       "        vertical-align: middle;\n",
       "    }\n",
       "\n",
       "    .dataframe tbody tr th {\n",
       "        vertical-align: top;\n",
       "    }\n",
       "\n",
       "    .dataframe thead th {\n",
       "        text-align: right;\n",
       "    }\n",
       "</style>\n",
       "<table border=\"1\" class=\"dataframe\">\n",
       "  <thead>\n",
       "    <tr style=\"text-align: right;\">\n",
       "      <th></th>\n",
       "      <th>country</th>\n",
       "      <th>date</th>\n",
       "      <th>experiment_id</th>\n",
       "      <th>order_id</th>\n",
       "      <th>spend_usd</th>\n",
       "      <th>user_bucket</th>\n",
       "      <th>user_id</th>\n",
       "      <th>vertical</th>\n",
       "    </tr>\n",
       "  </thead>\n",
       "  <tbody>\n",
       "    <tr>\n",
       "      <th>0</th>\n",
       "      <td>NaN</td>\n",
       "      <td>NaN</td>\n",
       "      <td>12624549</td>\n",
       "      <td>NaN</td>\n",
       "      <td>0.000000</td>\n",
       "      <td>3</td>\n",
       "      <td>1.660000e+19</td>\n",
       "      <td>NaN</td>\n",
       "    </tr>\n",
       "    <tr>\n",
       "      <th>1</th>\n",
       "      <td>NaN</td>\n",
       "      <td>NaN</td>\n",
       "      <td>12624548</td>\n",
       "      <td>NaN</td>\n",
       "      <td>0.000000</td>\n",
       "      <td>14</td>\n",
       "      <td>1.440000e+19</td>\n",
       "      <td>NaN</td>\n",
       "    </tr>\n",
       "    <tr>\n",
       "      <th>2</th>\n",
       "      <td>NaN</td>\n",
       "      <td>NaN</td>\n",
       "      <td>12624549</td>\n",
       "      <td>NaN</td>\n",
       "      <td>0.000000</td>\n",
       "      <td>20</td>\n",
       "      <td>8.430000e+18</td>\n",
       "      <td>NaN</td>\n",
       "    </tr>\n",
       "    <tr>\n",
       "      <th>3</th>\n",
       "      <td>NaN</td>\n",
       "      <td>NaN</td>\n",
       "      <td>12624549</td>\n",
       "      <td>NaN</td>\n",
       "      <td>0.000000</td>\n",
       "      <td>16</td>\n",
       "      <td>1.130000e+19</td>\n",
       "      <td>NaN</td>\n",
       "    </tr>\n",
       "    <tr>\n",
       "      <th>4</th>\n",
       "      <td>NaN</td>\n",
       "      <td>NaN</td>\n",
       "      <td>12624549</td>\n",
       "      <td>NaN</td>\n",
       "      <td>0.000000</td>\n",
       "      <td>14</td>\n",
       "      <td>1.400000e+18</td>\n",
       "      <td>NaN</td>\n",
       "    </tr>\n",
       "    <tr>\n",
       "      <th>5</th>\n",
       "      <td>NaN</td>\n",
       "      <td>NaN</td>\n",
       "      <td>12624549</td>\n",
       "      <td>NaN</td>\n",
       "      <td>0.000000</td>\n",
       "      <td>3</td>\n",
       "      <td>2.990000e+17</td>\n",
       "      <td>NaN</td>\n",
       "    </tr>\n",
       "    <tr>\n",
       "      <th>6</th>\n",
       "      <td>NaN</td>\n",
       "      <td>NaN</td>\n",
       "      <td>12624548</td>\n",
       "      <td>NaN</td>\n",
       "      <td>0.000000</td>\n",
       "      <td>6</td>\n",
       "      <td>7.170000e+18</td>\n",
       "      <td>NaN</td>\n",
       "    </tr>\n",
       "    <tr>\n",
       "      <th>7</th>\n",
       "      <td>NaN</td>\n",
       "      <td>NaN</td>\n",
       "      <td>12624549</td>\n",
       "      <td>NaN</td>\n",
       "      <td>0.000000</td>\n",
       "      <td>15</td>\n",
       "      <td>8.560000e+17</td>\n",
       "      <td>NaN</td>\n",
       "    </tr>\n",
       "    <tr>\n",
       "      <th>8</th>\n",
       "      <td>NaN</td>\n",
       "      <td>NaN</td>\n",
       "      <td>12624548</td>\n",
       "      <td>NaN</td>\n",
       "      <td>0.000000</td>\n",
       "      <td>4</td>\n",
       "      <td>7.070000e+18</td>\n",
       "      <td>NaN</td>\n",
       "    </tr>\n",
       "    <tr>\n",
       "      <th>9</th>\n",
       "      <td>NaN</td>\n",
       "      <td>NaN</td>\n",
       "      <td>12624549</td>\n",
       "      <td>NaN</td>\n",
       "      <td>0.000000</td>\n",
       "      <td>5</td>\n",
       "      <td>1.030000e+19</td>\n",
       "      <td>NaN</td>\n",
       "    </tr>\n",
       "    <tr>\n",
       "      <th>10</th>\n",
       "      <td>NaN</td>\n",
       "      <td>NaN</td>\n",
       "      <td>12624549</td>\n",
       "      <td>NaN</td>\n",
       "      <td>0.000000</td>\n",
       "      <td>16</td>\n",
       "      <td>1.750000e+19</td>\n",
       "      <td>NaN</td>\n",
       "    </tr>\n",
       "    <tr>\n",
       "      <th>11</th>\n",
       "      <td>NaN</td>\n",
       "      <td>NaN</td>\n",
       "      <td>12624548</td>\n",
       "      <td>NaN</td>\n",
       "      <td>0.000000</td>\n",
       "      <td>8</td>\n",
       "      <td>6.140000e+18</td>\n",
       "      <td>NaN</td>\n",
       "    </tr>\n",
       "    <tr>\n",
       "      <th>12</th>\n",
       "      <td>NaN</td>\n",
       "      <td>NaN</td>\n",
       "      <td>12624549</td>\n",
       "      <td>NaN</td>\n",
       "      <td>0.000000</td>\n",
       "      <td>17</td>\n",
       "      <td>4.480000e+18</td>\n",
       "      <td>NaN</td>\n",
       "    </tr>\n",
       "    <tr>\n",
       "      <th>13</th>\n",
       "      <td>JP</td>\n",
       "      <td>4/7/17</td>\n",
       "      <td>12624549</td>\n",
       "      <td>1.120000e+19</td>\n",
       "      <td>2.164181</td>\n",
       "      <td>14</td>\n",
       "      <td>1.090000e+19</td>\n",
       "      <td>GAMES</td>\n",
       "    </tr>\n",
       "    <tr>\n",
       "      <th>14</th>\n",
       "      <td>NaN</td>\n",
       "      <td>NaN</td>\n",
       "      <td>12624549</td>\n",
       "      <td>NaN</td>\n",
       "      <td>0.000000</td>\n",
       "      <td>18</td>\n",
       "      <td>1.720000e+19</td>\n",
       "      <td>NaN</td>\n",
       "    </tr>\n",
       "    <tr>\n",
       "      <th>15</th>\n",
       "      <td>NaN</td>\n",
       "      <td>NaN</td>\n",
       "      <td>12624549</td>\n",
       "      <td>NaN</td>\n",
       "      <td>0.000000</td>\n",
       "      <td>19</td>\n",
       "      <td>1.820000e+19</td>\n",
       "      <td>NaN</td>\n",
       "    </tr>\n",
       "    <tr>\n",
       "      <th>16</th>\n",
       "      <td>ID</td>\n",
       "      <td>4/2/17</td>\n",
       "      <td>12624548</td>\n",
       "      <td>6.150000e+18</td>\n",
       "      <td>0.975841</td>\n",
       "      <td>9</td>\n",
       "      <td>1.270000e+19</td>\n",
       "      <td>GAMES</td>\n",
       "    </tr>\n",
       "    <tr>\n",
       "      <th>17</th>\n",
       "      <td>ID</td>\n",
       "      <td>4/2/17</td>\n",
       "      <td>12624548</td>\n",
       "      <td>1.470000e+19</td>\n",
       "      <td>2.868148</td>\n",
       "      <td>9</td>\n",
       "      <td>1.270000e+19</td>\n",
       "      <td>GAMES</td>\n",
       "    </tr>\n",
       "    <tr>\n",
       "      <th>18</th>\n",
       "      <td>NaN</td>\n",
       "      <td>NaN</td>\n",
       "      <td>12624549</td>\n",
       "      <td>NaN</td>\n",
       "      <td>0.000000</td>\n",
       "      <td>17</td>\n",
       "      <td>1.440000e+19</td>\n",
       "      <td>NaN</td>\n",
       "    </tr>\n",
       "    <tr>\n",
       "      <th>19</th>\n",
       "      <td>JP</td>\n",
       "      <td>4/6/17</td>\n",
       "      <td>12624548</td>\n",
       "      <td>1.250000e+19</td>\n",
       "      <td>26.174415</td>\n",
       "      <td>4</td>\n",
       "      <td>1.100000e+19</td>\n",
       "      <td>GAMES</td>\n",
       "    </tr>\n",
       "  </tbody>\n",
       "</table>\n",
       "</div>"
      ],
      "text/plain": [
       "   country    date  experiment_id      order_id  spend_usd  user_bucket  \\\n",
       "0      NaN     NaN       12624549           NaN   0.000000            3   \n",
       "1      NaN     NaN       12624548           NaN   0.000000           14   \n",
       "2      NaN     NaN       12624549           NaN   0.000000           20   \n",
       "3      NaN     NaN       12624549           NaN   0.000000           16   \n",
       "4      NaN     NaN       12624549           NaN   0.000000           14   \n",
       "5      NaN     NaN       12624549           NaN   0.000000            3   \n",
       "6      NaN     NaN       12624548           NaN   0.000000            6   \n",
       "7      NaN     NaN       12624549           NaN   0.000000           15   \n",
       "8      NaN     NaN       12624548           NaN   0.000000            4   \n",
       "9      NaN     NaN       12624549           NaN   0.000000            5   \n",
       "10     NaN     NaN       12624549           NaN   0.000000           16   \n",
       "11     NaN     NaN       12624548           NaN   0.000000            8   \n",
       "12     NaN     NaN       12624549           NaN   0.000000           17   \n",
       "13      JP  4/7/17       12624549  1.120000e+19   2.164181           14   \n",
       "14     NaN     NaN       12624549           NaN   0.000000           18   \n",
       "15     NaN     NaN       12624549           NaN   0.000000           19   \n",
       "16      ID  4/2/17       12624548  6.150000e+18   0.975841            9   \n",
       "17      ID  4/2/17       12624548  1.470000e+19   2.868148            9   \n",
       "18     NaN     NaN       12624549           NaN   0.000000           17   \n",
       "19      JP  4/6/17       12624548  1.250000e+19  26.174415            4   \n",
       "\n",
       "         user_id vertical  \n",
       "0   1.660000e+19      NaN  \n",
       "1   1.440000e+19      NaN  \n",
       "2   8.430000e+18      NaN  \n",
       "3   1.130000e+19      NaN  \n",
       "4   1.400000e+18      NaN  \n",
       "5   2.990000e+17      NaN  \n",
       "6   7.170000e+18      NaN  \n",
       "7   8.560000e+17      NaN  \n",
       "8   7.070000e+18      NaN  \n",
       "9   1.030000e+19      NaN  \n",
       "10  1.750000e+19      NaN  \n",
       "11  6.140000e+18      NaN  \n",
       "12  4.480000e+18      NaN  \n",
       "13  1.090000e+19    GAMES  \n",
       "14  1.720000e+19      NaN  \n",
       "15  1.820000e+19      NaN  \n",
       "16  1.270000e+19    GAMES  \n",
       "17  1.270000e+19    GAMES  \n",
       "18  1.440000e+19      NaN  \n",
       "19  1.100000e+19    GAMES  "
      ]
     },
     "execution_count": 33,
     "metadata": {},
     "output_type": "execute_result"
    }
   ],
   "source": [
    "experiment = my_data\n",
    "experiment.head(20)"
   ]
  },
  {
   "cell_type": "code",
   "execution_count": 34,
   "metadata": {},
   "outputs": [
    {
     "name": "stdout",
     "output_type": "stream",
     "text": [
      "Total number of experiment users is 49166\n",
      "Number of users in case group 24695\n",
      "Number of users in control group 24471\n"
     ]
    }
   ],
   "source": [
    "control = experiment[experiment['experiment_id'] == 12624549]['spend_usd']\n",
    "case = experiment[experiment['experiment_id'] == 12624548]['spend_usd']\n",
    "\n",
    "print('Total number of experiment users is', len(experiment))\n",
    "print('Number of users in case group', len(case))\n",
    "print('Number of users in control group', len(control))"
   ]
  },
  {
   "cell_type": "code",
   "execution_count": 35,
   "metadata": {},
   "outputs": [
    {
     "name": "stdout",
     "output_type": "stream",
     "text": [
      "Statistical summary for case group:\n",
      "count    24695.000000\n",
      "mean         3.101232\n",
      "std         11.647487\n",
      "min          0.000000\n",
      "25%          0.000000\n",
      "50%          0.000000\n",
      "75%          0.975661\n",
      "max        119.990000\n",
      "Name: spend_usd, dtype: float64\n",
      "Statistical summary for control group:\n",
      "count    24471.000000\n",
      "mean         2.807225\n",
      "std         10.974284\n",
      "min          0.000000\n",
      "25%          0.000000\n",
      "50%          0.000000\n",
      "75%          0.000000\n",
      "max        199.990000\n",
      "Name: spend_usd, dtype: float64\n"
     ]
    }
   ],
   "source": [
    "print('Statistical summary for case group:')\n",
    "print(case.describe())\n",
    "print('Statistical summary for control group:')\n",
    "print(control.describe())"
   ]
  },
  {
   "cell_type": "code",
   "execution_count": 36,
   "metadata": {},
   "outputs": [
    {
     "data": {
      "text/plain": [
       "0.10714285714285725"
      ]
     },
     "execution_count": 36,
     "metadata": {},
     "output_type": "execute_result"
    }
   ],
   "source": [
    "# Calculate potential increasing revenue\n",
    "(3.1 - 2.8) / 2.8"
   ]
  },
  {
   "cell_type": "code",
   "execution_count": 37,
   "metadata": {},
   "outputs": [
    {
     "data": {
      "text/plain": [
       "Ttest_indResult(statistic=2.880888081055276, pvalue=0.0039672827581814325)"
      ]
     },
     "execution_count": 37,
     "metadata": {},
     "output_type": "execute_result"
    }
   ],
   "source": [
    "# perform two sample one side t-test on case/control group\n",
    "from scipy import stats\n",
    "stats.ttest_ind(case, control, equal_var=False)"
   ]
  },
  {
   "cell_type": "code",
   "execution_count": null,
   "metadata": {},
   "outputs": [],
   "source": []
  }
 ],
 "metadata": {
  "kernelspec": {
   "display_name": "Python 3",
   "language": "python",
   "name": "python3"
  },
  "language_info": {
   "codemirror_mode": {
    "name": "ipython",
    "version": 3
   },
   "file_extension": ".py",
   "mimetype": "text/x-python",
   "name": "python",
   "nbconvert_exporter": "python",
   "pygments_lexer": "ipython3",
   "version": "3.7.1"
  }
 },
 "nbformat": 4,
 "nbformat_minor": 2
}
